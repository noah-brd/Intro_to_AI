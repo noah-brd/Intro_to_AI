{
 "cells": [
  {
   "cell_type": "code",
   "execution_count": null,
   "metadata": {
    "scrolled": true
   },
   "outputs": [
    {
     "name": "stdout",
     "output_type": "stream",
     "text": [
      "じゃんけんをはじめます\n",
      "名前を入力してください：noah\n",
      "何を出しますか？（0: グー, 1: チョキ, 2: パー）\n"
     ]
    }
   ],
   "source": [
    "import random\n",
    "\n",
    "def validate(hand):\n",
    "    if hand < 0 or hand > 2:\n",
    "        return False\n",
    "    else:\n",
    "        return True\n",
    "      \n",
    "def print_hand(hand, name='ゲスト'):\n",
    "    hands = ['グー', 'チョキ', 'パー']\n",
    "    print(name + 'は' + hands[hand] + 'を出しました')\n",
    "\n",
    "def print_computer(hand):\n",
    "    hands = ['グー', 'チョキ', 'パー']\n",
    "    print( 'Computerは'+ hands[hand] + 'を出しました')    \n",
    "    \n",
    "print('じゃんけんをはじめます')\n",
    "player_name = input('名前を入力してください：')\n",
    "print('何を出しますか？（0: グー, 1: チョキ, 2: パー）')\n",
    "player_hand = int(input('数字で入力してください：'))\n",
    "\n",
    "if validate(player_hand) == True:\n",
    "    if player_name == '':\n",
    "        print_hand(player_hand)\n",
    "    else:\n",
    "        print_hand(player_hand, player_name)\n",
    "else:\n",
    "    print('正しい数値を入力してください')\n",
    "\n",
    "computer_hand = random.randint(0,2)\n",
    "print_computer(computer_hand)\n",
    "\n",
    "if player_hand == 1 and computer_hand == 2 or player_hand == 2 and computer_hand == 0 or player_hand == 0 and computer_hand == 1:\n",
    "    print(player_name + 'が勝ちました')\n",
    "if player_hand == 2 and computer_hand == 1 or player_hand == 0 and computer_hand == 2 or player_hand == 1 and computer_hand == 0:\n",
    "    print('Computerが勝ちました') \n",
    "if player_hand == 2 and computer_hand == 2 or player_hand == 1 and computer_hand == 1 or player_hand == 0 and computer_hand == 0:\n",
    "    print('アイコです') "
   ]
  },
  {
   "cell_type": "code",
   "execution_count": 80,
   "metadata": {},
   "outputs": [
    {
     "name": "stdout",
     "output_type": "stream",
     "text": [
      "face\n"
     ]
    }
   ],
   "source": [
    "fuck(1)"
   ]
  },
  {
   "cell_type": "code",
   "execution_count": 93,
   "metadata": {},
   "outputs": [],
   "source": [
    "computer_hand = random.randint(0,2)"
   ]
  },
  {
   "cell_type": "code",
   "execution_count": 94,
   "metadata": {},
   "outputs": [
    {
     "name": "stdout",
     "output_type": "stream",
     "text": [
      "Computerはグーを出しました\n"
     ]
    }
   ],
   "source": [
    "print_computer(computer_hand)"
   ]
  },
  {
   "cell_type": "code",
   "execution_count": null,
   "metadata": {},
   "outputs": [],
   "source": []
  },
  {
   "cell_type": "code",
   "execution_count": null,
   "metadata": {},
   "outputs": [],
   "source": []
  }
 ],
 "metadata": {
  "kernelspec": {
   "display_name": "Python 3",
   "language": "python",
   "name": "python3"
  },
  "language_info": {
   "codemirror_mode": {
    "name": "ipython",
    "version": 3
   },
   "file_extension": ".py",
   "mimetype": "text/x-python",
   "name": "python",
   "nbconvert_exporter": "python",
   "pygments_lexer": "ipython3",
   "version": "3.6.0"
  }
 },
 "nbformat": 4,
 "nbformat_minor": 2
}
