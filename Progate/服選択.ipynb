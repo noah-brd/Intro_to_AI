{
 "cells": [
  {
   "cell_type": "code",
   "execution_count": 19,
   "metadata": {
    "scrolled": true
   },
   "outputs": [
    {
     "ename": "IndentationError",
     "evalue": "expected an indented block (<ipython-input-19-df3aec75938e>, line 2)",
     "output_type": "error",
     "traceback": [
      "\u001b[0;36m  File \u001b[0;32m\"<ipython-input-19-df3aec75938e>\"\u001b[0;36m, line \u001b[0;32m2\u001b[0m\n\u001b[0;31m    menu_item1 = MenuItem()\u001b[0m\n\u001b[0m             ^\u001b[0m\n\u001b[0;31mIndentationError\u001b[0m\u001b[0;31m:\u001b[0m expected an indented block\n"
     ]
    }
   ],
   "source": [
    "class MenuItem:\n",
    "    \n",
    "menu_item1 = MenuItem()"
   ]
  },
  {
   "cell_type": "code",
   "execution_count": null,
   "metadata": {},
   "outputs": [],
   "source": [
    "menu_item1.name = 'Supreme shoes'\n",
    "menu_item1.price = 25000\n",
    "menu_item1.fact = '(中古品)'\n",
    "print(menu_item1.name + ':' + menu_item1.price + menu_item1.fact)"
   ]
  },
  {
   "cell_type": "code",
   "execution_count": null,
   "metadata": {},
   "outputs": [],
   "source": [
    "menu_item2 = MenuItem()\n",
    "menu_item2.name = 'Palace hoodie'\n",
    "menu_item2.price = 15000\n",
    "menu_item2.fact = '(新品)'\n",
    "menu_item3 = MenuItem()\n",
    "menu_item3.name = 'Palm Angels T-shirt'\n",
    "menu_item3.price = 32000\n",
    "menu_item3.fact = '(新品)'"
   ]
  },
  {
   "cell_type": "code",
   "execution_count": null,
   "metadata": {},
   "outputs": [],
   "source": []
  }
 ],
 "metadata": {
  "kernelspec": {
   "display_name": "Python 3",
   "language": "python",
   "name": "python3"
  },
  "language_info": {
   "codemirror_mode": {
    "name": "ipython",
    "version": 3
   },
   "file_extension": ".py",
   "mimetype": "text/x-python",
   "name": "python",
   "nbconvert_exporter": "python",
   "pygments_lexer": "ipython3",
   "version": "3.6.0"
  }
 },
 "nbformat": 4,
 "nbformat_minor": 2
}
