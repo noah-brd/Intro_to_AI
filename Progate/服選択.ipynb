{
 "cells": [
  {
   "cell_type": "code",
   "execution_count": 11,
   "metadata": {
    "scrolled": true
   },
   "outputs": [],
   "source": [
    "class MenuItem():\n",
    "    def __init__(self, name, price, fact):\n",
    "        self.name = name\n",
    "        self.price = price\n",
    "        self.fact = fact\n",
    "    def info(self):\n",
    "        return self.name + ':¥' + str(self.price) + self.fact\n",
    "    def total_price(self):\n",
    "        return self.price * count"
   ]
  },
  {
   "cell_type": "code",
   "execution_count": 12,
   "metadata": {
    "scrolled": true
   },
   "outputs": [
    {
     "name": "stdout",
     "output_type": "stream",
     "text": [
      "1.Supreme shoes:¥250000(中古品)\n",
      "2.Palace hoodie:¥15000(新品)\n",
      "3.Palm Angels T-shirt:¥32000(新品)\n",
      "--------------------------------------------\n",
      "欲しいものの番号を記入しろ。:0\n",
      "センスがねえな。\n",
      "違うもの選べ。:1\n",
      "何個欲しいんだ？2\n",
      "代金は500000円だ！\n"
     ]
    }
   ],
   "source": [
    "menu_item1 = MenuItem('Supreme shoes', 250000, '(中古品)')\n",
    "menu_item2 = MenuItem('Palace hoodie', 15000, '(新品)')\n",
    "menu_item3 = MenuItem('Palm Angels T-shirt', 32000, '(新品)')\n",
    "menu_items = [menu_item1, menu_item2, menu_item3]\n",
    "index = 1\n",
    "for item in menu_items:\n",
    "    print(str(index) + '.' + item.info())\n",
    "    index += 1\n",
    "print('--------------------------------------------')\n",
    "order = int(input('欲しいものの番号を記入しろ。:'))\n",
    "if order == 2 or 3:\n",
    "    print('センスがねえな。')\n",
    "    order2 = int(input('違うもの選べ。:'))\n",
    "    selected_menu2 = menu_items[order2-1]\n",
    "    count = int(input('何個欲しいんだ？'))\n",
    "    total_price = count * selected_menu2.price\n",
    "    print('代金は'+ str(total_price) + '円だ！')\n",
    "else:\n",
    "    print('悪くねえな。')\n",
    "    selected_menu = menu_items[order-1]\n",
    "    count = int(input('何個欲しいんだ？'))\n",
    "    total_price = count * selected_menu.price\n",
    "    print('代金は'+ str(total_price) + '円だ！')"
   ]
  },
  {
   "cell_type": "code",
   "execution_count": null,
   "metadata": {},
   "outputs": [],
   "source": []
  }
 ],
 "metadata": {
  "kernelspec": {
   "display_name": "Python 3",
   "language": "python",
   "name": "python3"
  },
  "language_info": {
   "codemirror_mode": {
    "name": "ipython",
    "version": 3
   },
   "file_extension": ".py",
   "mimetype": "text/x-python",
   "name": "python",
   "nbconvert_exporter": "python",
   "pygments_lexer": "ipython3",
   "version": "3.6.0"
  }
 },
 "nbformat": 4,
 "nbformat_minor": 2
}
