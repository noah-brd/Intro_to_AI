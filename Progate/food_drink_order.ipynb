{
 "cells": [
  {
   "cell_type": "code",
   "execution_count": 38,
   "metadata": {},
   "outputs": [],
   "source": [
    "class Food:\n",
    "    def __init__(self, name, price, gram):\n",
    "        self.name = name\n",
    "        self.price = price\n",
    "        self.gram = gram\n",
    "    def info(self):\n",
    "        return self.name + ': ¥' + str(self.price) + self.gram"
   ]
  },
  {
   "cell_type": "code",
   "execution_count": 39,
   "metadata": {},
   "outputs": [],
   "source": [
    "class Drink:\n",
    "    def __init__(self, name, price, amount):\n",
    "        self.name = name\n",
    "        self.price = price\n",
    "        self.amount = amount\n",
    "    def info(self):\n",
    "        return self.name + ':¥' + str(self.price) + self.gram"
   ]
  },
  {
   "cell_type": "code",
   "execution_count": 40,
   "metadata": {},
   "outputs": [
    {
     "name": "stdout",
     "output_type": "stream",
     "text": [
      "食べ物メニュー\n",
      "0: fuckバーガー: ¥3000(500g)\n",
      "1: Kingステーキ: ¥5000(400g)\n",
      "2: shitウニ丼: ¥4000(300g)\n",
      "飲み物メニュー\n",
      "0: soda soda: ¥800(500g)\n",
      "1: Juice Juice: ¥800(400g)\n",
      "2: vodka vodka: ¥1000(300g)\n",
      "-----------------------\n",
      "食べ物の番号を選択してください1\n",
      "Kingステーキですね！かしこまりました。\n",
      "では、今度は飲み物の番号を選択してください2\n",
      "vodka vodkaですね！かしこまりました。\n",
      "何セット買いますか？2\n",
      "合計は12000円です\n"
     ]
    }
   ],
   "source": [
    "print('食べ物メニュー')\n",
    "food_item1 = Food('fuckバーガー', 3000, '(500g)' )\n",
    "food_item2 = Food('Kingステーキ', 5000, '(400g)' )\n",
    "food_item3 = Food('shitウニ丼', 4000, '(300g)' )\n",
    "food_items = [food_item1, food_item2, food_item3]\n",
    "index = 0\n",
    "for food_menu in food_items:\n",
    "    print(str(index) + ': ' + food_menu.info())\n",
    "    index += 1\n",
    "\n",
    "print('飲み物メニュー')\n",
    "drink_item1 = Food('soda soda', 800, '(500g)' )\n",
    "drink_item2 = Food('Juice Juice', 800, '(400g)' )\n",
    "drink_item3 = Food('vodka vodka', 1000, '(300g)' )\n",
    "drink_items = [drink_item1, drink_item2, drink_item3]\n",
    "index = 0\n",
    "for drink_menu in drink_items:\n",
    "    print(str(index) + ': ' + drink_menu.info())\n",
    "    index += 1\n",
    "print('-----------------------')\n",
    "food_order = int(input('食べ物の番号を選択してください'))\n",
    "selected_food = food_items[food_order]\n",
    "print(selected_food.name + 'ですね！かしこまりました。')\n",
    "\n",
    "drink_order = int(input('では、今度は飲み物の番号を選択してください'))\n",
    "selected_drink = drink_items[drink_order]\n",
    "print(selected_drink.name + 'ですね！かしこまりました。')\n",
    "\n",
    "count = int(input('何セット買いますか？'))\n",
    "total_price = count * (selected_food.price + selected_drink.price)\n",
    "print('合計は' + str(total_price) + '円です')"
   ]
  },
  {
   "cell_type": "code",
   "execution_count": null,
   "metadata": {},
   "outputs": [],
   "source": []
  },
  {
   "cell_type": "code",
   "execution_count": null,
   "metadata": {},
   "outputs": [],
   "source": []
  }
 ],
 "metadata": {
  "kernelspec": {
   "display_name": "Python 3",
   "language": "python",
   "name": "python3"
  },
  "language_info": {
   "codemirror_mode": {
    "name": "ipython",
    "version": 3
   },
   "file_extension": ".py",
   "mimetype": "text/x-python",
   "name": "python",
   "nbconvert_exporter": "python",
   "pygments_lexer": "ipython3",
   "version": "3.6.0"
  }
 },
 "nbformat": 4,
 "nbformat_minor": 2
}
