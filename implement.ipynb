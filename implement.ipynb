{
 "cells": [
  {
   "cell_type": "code",
   "execution_count": 1,
   "metadata": {},
   "outputs": [],
   "source": [
    "import numpy as np"
   ]
  },
  {
   "cell_type": "code",
   "execution_count": 30,
   "metadata": {},
   "outputs": [],
   "source": [
    "import matplotlib.pyplot as plt"
   ]
  },
  {
   "cell_type": "code",
   "execution_count": 31,
   "metadata": {},
   "outputs": [],
   "source": [
    "# 学習データを読み込む"
   ]
  },
  {
   "cell_type": "code",
   "execution_count": 32,
   "metadata": {},
   "outputs": [],
   "source": [
    "train = np.loadtxt('sourcecode/click.csv', delimiter=',', skiprows=1)"
   ]
  },
  {
   "cell_type": "code",
   "execution_count": 33,
   "metadata": {
    "scrolled": true
   },
   "outputs": [
    {
     "data": {
      "text/plain": [
       "array([[235., 591.],\n",
       "       [216., 539.],\n",
       "       [148., 413.],\n",
       "       [ 35., 310.],\n",
       "       [ 85., 308.],\n",
       "       [204., 519.],\n",
       "       [ 49., 325.],\n",
       "       [ 25., 332.],\n",
       "       [173., 498.],\n",
       "       [191., 498.],\n",
       "       [134., 392.],\n",
       "       [ 99., 334.],\n",
       "       [117., 385.],\n",
       "       [112., 387.],\n",
       "       [162., 425.],\n",
       "       [272., 659.],\n",
       "       [159., 400.],\n",
       "       [159., 427.],\n",
       "       [ 59., 319.],\n",
       "       [198., 522.]])"
      ]
     },
     "execution_count": 33,
     "metadata": {},
     "output_type": "execute_result"
    }
   ],
   "source": [
    "train"
   ]
  },
  {
   "cell_type": "code",
   "execution_count": 34,
   "metadata": {},
   "outputs": [],
   "source": [
    "train_x = train[:,0]"
   ]
  },
  {
   "cell_type": "code",
   "execution_count": 35,
   "metadata": {},
   "outputs": [],
   "source": [
    "train_y = train[:,1]"
   ]
  },
  {
   "cell_type": "code",
   "execution_count": null,
   "metadata": {},
   "outputs": [],
   "source": []
  },
  {
   "cell_type": "code",
   "execution_count": 8,
   "metadata": {},
   "outputs": [],
   "source": [
    "#　プロット"
   ]
  },
  {
   "cell_type": "code",
   "execution_count": 9,
   "metadata": {},
   "outputs": [
    {
     "data": {
      "text/plain": [
       "[<matplotlib.lines.Line2D at 0x110259860>]"
      ]
     },
     "execution_count": 9,
     "metadata": {},
     "output_type": "execute_result"
    },
    {
     "data": {
      "image/png": "[encoded data removed]",
      "text/plain": [
       "<Figure size 432x288 with 1 Axes>"
      ]
     },
     "metadata": {
      "needs_background": "light"
     },
     "output_type": "display_data"
    }
   ],
   "source": [
    "plt.plot(train_x, train_y, 'o')"
   ]
  },
  {
   "cell_type": "code",
   "execution_count": 10,
   "metadata": {},
   "outputs": [],
   "source": [
    "plt.show()"
   ]
  },
  {
   "cell_type": "code",
   "execution_count": 11,
   "metadata": {},
   "outputs": [],
   "source": [
    "# パラメータを初期化"
   ]
  },
  {
   "cell_type": "code",
   "execution_count": 12,
   "metadata": {},
   "outputs": [],
   "source": [
    "theta0= np.random.rand()"
   ]
  },
  {
   "cell_type": "code",
   "execution_count": 13,
   "metadata": {},
   "outputs": [],
   "source": [
    "theta1= np.random.rand()"
   ]
  },
  {
   "cell_type": "code",
   "execution_count": 14,
   "metadata": {},
   "outputs": [],
   "source": [
    "#予測関数"
   ]
  },
  {
   "cell_type": "code",
   "execution_count": 15,
   "metadata": {},
   "outputs": [],
   "source": [
    "def f(x):\n",
    "    return theta0 + theta1 * x"
   ]
  },
  {
   "cell_type": "code",
   "execution_count": 16,
   "metadata": {},
   "outputs": [],
   "source": [
    "#目的関数"
   ]
  },
  {
   "cell_type": "code",
   "execution_count": 17,
   "metadata": {},
   "outputs": [],
   "source": [
    "def E(x,y):\n",
    "    return 0.5 * np.sum((y-f(x)) ** 2)"
   ]
  },
  {
   "cell_type": "code",
   "execution_count": 18,
   "metadata": {},
   "outputs": [],
   "source": [
    "#標準化"
   ]
  },
  {
   "cell_type": "code",
   "execution_count": 19,
   "metadata": {},
   "outputs": [],
   "source": [
    "mu = train_x.mean()"
   ]
  },
  {
   "cell_type": "code",
   "execution_count": 20,
   "metadata": {},
   "outputs": [],
   "source": [
    "sigma = train_x.std()"
   ]
  },
  {
   "cell_type": "code",
   "execution_count": 21,
   "metadata": {},
   "outputs": [],
   "source": [
    "def standardize(x):\n",
    "    return (x - mu)/sigma"
   ]
  },
  {
   "cell_type": "code",
   "execution_count": 22,
   "metadata": {},
   "outputs": [],
   "source": [
    "train_z = standardize(train_x)"
   ]
  },
  {
   "cell_type": "code",
   "execution_count": 23,
   "metadata": {},
   "outputs": [
    {
     "data": {
      "text/plain": [
       "[<matplotlib.lines.Line2D at 0x1102b59e8>]"
      ]
     },
     "execution_count": 23,
     "metadata": {},
     "output_type": "execute_result"
    },
    {
     "data": {
      "image/png": "[encoded data removed]",
      "text/plain": [
       "<Figure size 432x288 with 1 Axes>"
      ]
     },
     "metadata": {
      "needs_background": "light"
     },
     "output_type": "display_data"
    }
   ],
   "source": [
    "plt.plot(train_x, train_y, 'o')"
   ]
  },
  {
   "cell_type": "code",
   "execution_count": 24,
   "metadata": {},
   "outputs": [],
   "source": [
    "ETA = 1e-3"
   ]
  },
  {
   "cell_type": "code",
   "execution_count": 25,
   "metadata": {},
   "outputs": [],
   "source": [
    "diff = 1"
   ]
  },
  {
   "cell_type": "code",
   "execution_count": 26,
   "metadata": {},
   "outputs": [],
   "source": [
    "count = 0"
   ]
  },
  {
   "cell_type": "code",
   "execution_count": 27,
   "metadata": {},
   "outputs": [],
   "source": [
    "error = E(train_z, train_y)"
   ]
  },
  {
   "cell_type": "code",
   "execution_count": 28,
   "metadata": {},
   "outputs": [
    {
     "name": "stdout",
     "output_type": "stream",
     "text": [
      "1回目: theta0 = 8.937, theta1 = 2.414, 差分 =76227.9080\n",
      "2回目: theta0 = 17.341, theta1 = 4.235, 差分 =73209.2828\n",
      "3回目: theta0 = 25.577, theta1 = 6.020, 差分 =70310.1952\n",
      "4回目: theta0 = 33.649, theta1 = 7.769, 差分 =67525.9115\n",
      "5回目: theta0 = 41.559, theta1 = 9.483, 差分 =64851.8854\n",
      "6回目: theta0 = 49.311, theta1 = 11.163, 差分 =62283.7507\n",
      "7回目: theta0 = 56.907, theta1 = 12.810, 差分 =59817.3142\n",
      "8回目: theta0 = 64.352, theta1 = 14.423, 差分 =57448.5486\n",
      "9回目: theta0 = 71.648, theta1 = 16.004, 差分 =55173.5860\n",
      "10回目: theta0 = 78.798, theta1 = 17.554, 差分 =52988.7120\n",
      "11回目: theta0 = 85.805, theta1 = 19.072, 差分 =50890.3590\n",
      "12回目: theta0 = 92.672, theta1 = 20.560, 差分 =48875.1008\n",
      "13回目: theta0 = 99.402, theta1 = 22.019, 差分 =46939.6468\n",
      "14回目: theta0 = 105.997, theta1 = 23.448, 差分 =45080.8368\n",
      "15回目: theta0 = 112.460, theta1 = 24.848, 差分 =43295.6357\n",
      "16回目: theta0 = 118.794, theta1 = 26.221, 差分 =41581.1285\n",
      "17回目: theta0 = 125.001, theta1 = 27.566, 差分 =39934.5158\n",
      "18回目: theta0 = 131.084, theta1 = 28.884, 差分 =38353.1090\n",
      "19回目: theta0 = 137.045, theta1 = 30.176, 差分 =36834.3259\n",
      "20回目: theta0 = 142.887, theta1 = 31.442, 差分 =35375.6866\n",
      "21回目: theta0 = 148.612, theta1 = 32.683, 差分 =33974.8094\n",
      "22回目: theta0 = 154.223, theta1 = 33.899, 差分 =32629.4069\n",
      "23回目: theta0 = 159.722, theta1 = 35.091, 差分 =31337.2824\n",
      "24回目: theta0 = 165.110, theta1 = 36.258, 差分 =30096.3260\n",
      "25回目: theta0 = 170.391, theta1 = 37.403, 差分 =28904.5115\n",
      "26回目: theta0 = 175.566, theta1 = 38.524, 差分 =27759.8929\n",
      "27回目: theta0 = 180.638, theta1 = 39.623, 差分 =26660.6011\n",
      "28回目: theta0 = 185.608, theta1 = 40.700, 差分 =25604.8413\n",
      "29回目: theta0 = 190.479, theta1 = 41.756, 差分 =24590.8896\n",
      "30回目: theta0 = 195.252, theta1 = 42.790, 差分 =23617.0904\n",
      "31回目: theta0 = 199.930, theta1 = 43.804, 差分 =22681.8536\n",
      "32回目: theta0 = 204.515, theta1 = 44.798, 差分 =21783.6522\n",
      "33回目: theta0 = 209.007, theta1 = 45.771, 差分 =20921.0196\n",
      "34回目: theta0 = 213.410, theta1 = 46.725, 差分 =20092.5472\n",
      "35回目: theta0 = 217.725, theta1 = 47.661, 差分 =19296.8823\n",
      "36回目: theta0 = 221.954, theta1 = 48.577, 差分 =18532.7258\n",
      "37回目: theta0 = 226.097, theta1 = 49.475, 差分 =17798.8298\n",
      "38回目: theta0 = 230.159, theta1 = 50.355, 差分 =17093.9962\n",
      "39回目: theta0 = 234.138, theta1 = 51.218, 差分 =16417.0739\n",
      "40回目: theta0 = 238.039, theta1 = 52.063, 差分 =15766.9578\n",
      "41回目: theta0 = 241.861, theta1 = 52.891, 差分 =15142.5863\n",
      "42回目: theta0 = 245.607, theta1 = 53.703, 差分 =14542.9398\n",
      "43回目: theta0 = 249.277, theta1 = 54.498, 差分 =13967.0394\n",
      "44回目: theta0 = 252.875, theta1 = 55.278, 差分 =13413.9447\n",
      "45回目: theta0 = 256.400, theta1 = 56.042, 差分 =12882.7525\n",
      "46回目: theta0 = 259.855, theta1 = 56.791, 差分 =12372.5955\n",
      "47回目: theta0 = 263.241, theta1 = 57.524, 差分 =11882.6407\n",
      "48回目: theta0 = 266.559, theta1 = 58.244, 差分 =11412.0881\n",
      "49回目: theta0 = 269.811, theta1 = 58.948, 差分 =10960.1694\n",
      "50回目: theta0 = 272.998, theta1 = 59.639, 差分 =10526.1467\n",
      "51回目: theta0 = 276.121, theta1 = 60.316, 差分 =10109.3113\n",
      "52回目: theta0 = 279.182, theta1 = 60.979, 差分 =9708.9826\n",
      "53回目: theta0 = 282.181, theta1 = 61.629, 差分 =9324.5069\n",
      "54回目: theta0 = 285.120, theta1 = 62.266, 差分 =8955.2564\n",
      "55回目: theta0 = 288.001, theta1 = 62.890, 差分 =8600.6282\n",
      "56回目: theta0 = 290.824, theta1 = 63.502, 差分 =8260.0434\n",
      "57回目: theta0 = 293.591, theta1 = 64.101, 差分 =7932.9456\n",
      "58回目: theta0 = 296.302, theta1 = 64.689, 差分 =7618.8010\n",
      "59回目: theta0 = 298.959, theta1 = 65.265, 差分 =7317.0965\n",
      "60回目: theta0 = 301.563, theta1 = 65.829, 差分 =7027.3395\n",
      "61回目: theta0 = 304.114, theta1 = 66.382, 差分 =6749.0568\n",
      "62回目: theta0 = 306.615, theta1 = 66.924, 差分 =6481.7942\n",
      "63回目: theta0 = 309.066, theta1 = 67.455, 差分 =6225.1151\n",
      "64回目: theta0 = 311.467, theta1 = 67.976, 差分 =5978.6006\n",
      "65回目: theta0 = 313.821, theta1 = 68.486, 差分 =5741.8480\n",
      "66回目: theta0 = 316.128, theta1 = 68.986, 差分 =5514.4708\n",
      "67回目: theta0 = 318.388, theta1 = 69.475, 差分 =5296.0978\n",
      "68回目: theta0 = 320.603, theta1 = 69.955, 差分 =5086.3723\n",
      "69回目: theta0 = 322.774, theta1 = 70.426, 差分 =4884.9519\n",
      "70回目: theta0 = 324.902, theta1 = 70.887, 差分 =4691.5078\n",
      "71回目: theta0 = 326.987, theta1 = 71.339, 差分 =4505.7241\n",
      "72回目: theta0 = 329.030, theta1 = 71.782, 差分 =4327.2975\n",
      "73回目: theta0 = 331.032, theta1 = 72.216, 差分 =4155.9365\n",
      "74回目: theta0 = 332.995, theta1 = 72.641, 差分 =3991.3614\n",
      "75回目: theta0 = 334.918, theta1 = 73.058, 差分 =3833.3035\n",
      "76回目: theta0 = 336.802, theta1 = 73.466, 差分 =3681.5047\n",
      "77回目: theta0 = 338.649, theta1 = 73.866, 差分 =3535.7171\n",
      "78回目: theta0 = 340.459, theta1 = 74.259, 差分 =3395.7027\n",
      "79回目: theta0 = 342.233, theta1 = 74.643, 差分 =3261.2329\n",
      "80回目: theta0 = 343.972, theta1 = 75.020, 差分 =3132.0880\n",
      "81回目: theta0 = 345.675, theta1 = 75.389, 差分 =3008.0573\n",
      "82回目: theta0 = 347.345, theta1 = 75.751, 差分 =2888.9383\n",
      "83回目: theta0 = 348.981, theta1 = 76.105, 差分 =2774.5363\n",
      "84回目: theta0 = 350.584, theta1 = 76.453, 差分 =2664.6647\n",
      "85回目: theta0 = 352.155, theta1 = 76.793, 差分 =2559.1440\n",
      "86回目: theta0 = 353.695, theta1 = 77.127, 差分 =2457.8019\n",
      "87回目: theta0 = 355.204, theta1 = 77.454, 差分 =2360.4729\n",
      "88回目: theta0 = 356.683, theta1 = 77.774, 差分 =2266.9982\n",
      "89回目: theta0 = 358.133, theta1 = 78.089, 差分 =2177.2251\n",
      "90回目: theta0 = 359.553, theta1 = 78.396, 差分 =2091.0069\n",
      "91回目: theta0 = 360.945, theta1 = 78.698, 差分 =2008.2031\n",
      "92回目: theta0 = 362.309, theta1 = 78.994, 差分 =1928.6782\n",
      "93回目: theta0 = 363.646, theta1 = 79.283, 差分 =1852.3026\n",
      "94回目: theta0 = 364.956, theta1 = 79.567, 差分 =1778.9514\n",
      "95回目: theta0 = 366.240, theta1 = 79.845, 差分 =1708.5049\n",
      "96回目: theta0 = 367.498, theta1 = 80.118, 差分 =1640.8481\n",
      "97回目: theta0 = 368.731, theta1 = 80.385, 差分 =1575.8705\n",
      "98回目: theta0 = 369.939, theta1 = 80.647, 差分 =1513.4661\n",
      "99回目: theta0 = 371.124, theta1 = 80.904, 差分 =1453.5328\n",
      "100回目: theta0 = 372.284, theta1 = 81.155, 差分 =1395.9729\n",
      "101回目: theta0 = 373.422, theta1 = 81.402, 差分 =1340.6924\n",
      "102回目: theta0 = 374.536, theta1 = 81.643, 差分 =1287.6010\n",
      "103回目: theta0 = 375.628, theta1 = 81.880, 差分 =1236.6120\n",
      "104回目: theta0 = 376.699, theta1 = 82.112, 差分 =1187.6421\n",
      "105回目: theta0 = 377.748, theta1 = 82.339, 差分 =1140.6115\n",
      "106回目: theta0 = 378.776, theta1 = 82.562, 差分 =1095.4433\n",
      "107回目: theta0 = 379.783, theta1 = 82.780, 差分 =1052.0637\n",
      "108回目: theta0 = 380.771, theta1 = 82.994, 差分 =1010.4020\n",
      "109回目: theta0 = 381.738, theta1 = 83.204, 差分 =970.3901\n",
      "110回目: theta0 = 382.687, theta1 = 83.410, 差分 =931.9626\n",
      "111回目: theta0 = 383.616, theta1 = 83.611, 差分 =895.0569\n",
      "112回目: theta0 = 384.526, theta1 = 83.808, 差分 =859.6127\n",
      "113回目: theta0 = 385.419, theta1 = 84.002, 差分 =825.5720\n",
      "114回目: theta0 = 386.294, theta1 = 84.191, 差分 =792.8794\n",
      "115回目: theta0 = 387.151, theta1 = 84.377, 差分 =761.4813\n",
      "116回目: theta0 = 387.991, theta1 = 84.559, 差分 =731.3267\n",
      "117回目: theta0 = 388.814, theta1 = 84.737, 差分 =702.3661\n",
      "118回目: theta0 = 389.621, theta1 = 84.912, 差分 =674.5524\n",
      "119回目: theta0 = 390.411, theta1 = 85.084, 差分 =647.8402\n",
      "120回目: theta0 = 391.186, theta1 = 85.252, 差分 =622.1857\n",
      "121回目: theta0 = 391.945, theta1 = 85.416, 差分 =597.5471\n",
      "122回目: theta0 = 392.689, theta1 = 85.577, 差分 =573.8843\n",
      "123回目: theta0 = 393.419, theta1 = 85.735, 差分 =551.1584\n",
      "124回目: theta0 = 394.133, theta1 = 85.890, 差分 =529.3326\n",
      "125回目: theta0 = 394.833, theta1 = 86.042, 差分 =508.3710\n",
      "126回目: theta0 = 395.520, theta1 = 86.191, 差分 =488.2395\n",
      "127回目: theta0 = 396.192, theta1 = 86.336, 差分 =468.9052\n",
      "128回目: theta0 = 396.852, theta1 = 86.479, 差分 =450.3366\n",
      "129回目: theta0 = 397.498, theta1 = 86.619, 差分 =432.5033\n",
      "130回目: theta0 = 398.131, theta1 = 86.757, 差分 =415.3761\n",
      "131回目: theta0 = 398.751, theta1 = 86.891, 差分 =398.9272\n",
      "132回目: theta0 = 399.359, theta1 = 87.023, 差分 =383.1297\n",
      "133回目: theta0 = 399.955, theta1 = 87.152, 差分 =367.9578\n",
      "134回目: theta0 = 400.539, theta1 = 87.278, 差分 =353.3866\n",
      "135回目: theta0 = 401.111, theta1 = 87.402, 差分 =339.3925\n",
      "136回目: theta0 = 401.672, theta1 = 87.524, 差分 =325.9526\n",
      "137回目: theta0 = 402.221, theta1 = 87.643, 差分 =313.0449\n",
      "138回目: theta0 = 402.760, theta1 = 87.760, 差分 =300.6483\n",
      "139回目: theta0 = 403.288, theta1 = 87.874, 差分 =288.7426\n",
      "140回目: theta0 = 403.805, theta1 = 87.986, 差分 =277.3084\n",
      "141回目: theta0 = 404.312, theta1 = 88.096, 差分 =266.3270\n",
      "142回目: theta0 = 404.809, theta1 = 88.204, 差分 =255.7804\n",
      "143回目: theta0 = 405.295, theta1 = 88.309, 差分 =245.6515\n",
      "144回目: theta0 = 405.772, theta1 = 88.413, 差分 =235.9237\n",
      "145回目: theta0 = 406.240, theta1 = 88.514, 差分 =226.5812\n",
      "146回目: theta0 = 406.698, theta1 = 88.613, 差分 =217.6085\n",
      "147回目: theta0 = 407.147, theta1 = 88.711, 差分 =208.9912\n",
      "148回目: theta0 = 407.587, theta1 = 88.806, 差分 =200.7152\n",
      "149回目: theta0 = 408.019, theta1 = 88.899, 差分 =192.7669\n",
      "150回目: theta0 = 408.441, theta1 = 88.991, 差分 =185.1333\n",
      "151回目: theta0 = 408.855, theta1 = 89.081, 差分 =177.8020\n",
      "152回目: theta0 = 409.261, theta1 = 89.169, 差分 =170.7611\n",
      "153回目: theta0 = 409.659, theta1 = 89.255, 差分 =163.9989\n",
      "154回目: theta0 = 410.049, theta1 = 89.339, 差分 =157.5046\n",
      "155回目: theta0 = 410.431, theta1 = 89.422, 差分 =151.2674\n",
      "156回目: theta0 = 410.805, theta1 = 89.503, 差分 =145.2772\n",
      "157回目: theta0 = 411.172, theta1 = 89.583, 差分 =139.5242\n",
      "158回目: theta0 = 411.532, theta1 = 89.661, 差分 =133.9991\n",
      "159回目: theta0 = 411.884, theta1 = 89.737, 差分 =128.6927\n",
      "160回目: theta0 = 412.229, theta1 = 89.812, 差分 =123.5965\n",
      "161回目: theta0 = 412.568, theta1 = 89.885, 差分 =118.7021\n",
      "162回目: theta0 = 412.899, theta1 = 89.957, 差分 =114.0014\n",
      "163回目: theta0 = 413.224, theta1 = 90.028, 差分 =109.4870\n",
      "164回目: theta0 = 413.543, theta1 = 90.097, 差分 =105.1513\n",
      "165回目: theta0 = 413.855, theta1 = 90.164, 差分 =100.9873\n",
      "166回目: theta0 = 414.161, theta1 = 90.230, 差分 =96.9882\n",
      "167回目: theta0 = 414.461, theta1 = 90.295, 差分 =93.1475\n",
      "168回目: theta0 = 414.755, theta1 = 90.359, 差分 =89.4588\n",
      "169回目: theta0 = 415.042, theta1 = 90.422, 差分 =85.9163\n",
      "170回目: theta0 = 415.325, theta1 = 90.483, 差分 =82.5140\n",
      "171回目: theta0 = 415.601, theta1 = 90.543, 差分 =79.2464\n",
      "172回目: theta0 = 415.872, theta1 = 90.601, 差分 =76.1083\n",
      "173回目: theta0 = 416.138, theta1 = 90.659, 差分 =73.0944\n",
      "174回目: theta0 = 416.398, theta1 = 90.715, 差分 =70.1999\n",
      "175回目: theta0 = 416.653, theta1 = 90.771, 差分 =67.4199\n",
      "176回目: theta0 = 416.903, theta1 = 90.825, 差分 =64.7501\n",
      "177回目: theta0 = 417.148, theta1 = 90.878, 差分 =62.1860\n",
      "178回目: theta0 = 417.388, theta1 = 90.930, 差分 =59.7234\n",
      "179回目: theta0 = 417.623, theta1 = 90.981, 差分 =57.3584\n",
      "180回目: theta0 = 417.854, theta1 = 91.031, 差分 =55.0870\n",
      "181回目: theta0 = 418.080, theta1 = 91.080, 差分 =52.9056\n",
      "182回目: theta0 = 418.301, theta1 = 91.128, 差分 =50.8105\n",
      "183回目: theta0 = 418.518, theta1 = 91.175, 差分 =48.7984\n",
      "184回目: theta0 = 418.731, theta1 = 91.221, 差分 =46.8660\n",
      "185回目: theta0 = 418.939, theta1 = 91.266, 差分 =45.0101\n",
      "186回目: theta0 = 419.143, theta1 = 91.310, 差分 =43.2277\n",
      "187回目: theta0 = 419.343, theta1 = 91.354, 差分 =41.5159\n",
      "188回目: theta0 = 419.540, theta1 = 91.396, 差分 =39.8718\n",
      "189回目: theta0 = 419.732, theta1 = 91.438, 差分 =38.2929\n",
      "190回目: theta0 = 419.920, theta1 = 91.479, 差分 =36.7765\n",
      "191回目: theta0 = 420.105, theta1 = 91.519, 差分 =35.3202\n",
      "192回目: theta0 = 420.286, theta1 = 91.558, 差分 =33.9215\n",
      "193回目: theta0 = 420.463, theta1 = 91.596, 差分 =32.5782\n",
      "194回目: theta0 = 420.637, theta1 = 91.634, 差分 =31.2881\n",
      "195回目: theta0 = 420.807, theta1 = 91.671, 差分 =30.0491\n",
      "196回目: theta0 = 420.974, theta1 = 91.707, 差分 =28.8591\n",
      "197回目: theta0 = 421.137, theta1 = 91.742, 差分 =27.7163\n",
      "198回目: theta0 = 421.298, theta1 = 91.777, 差分 =26.6188\n",
      "199回目: theta0 = 421.455, theta1 = 91.811, 差分 =25.5647\n",
      "200回目: theta0 = 421.608, theta1 = 91.844, 差分 =24.5523\n",
      "201回目: theta0 = 421.759, theta1 = 91.877, 差分 =23.5800\n",
      "202回目: theta0 = 421.907, theta1 = 91.909, 差分 =22.6463\n",
      "203回目: theta0 = 422.052, theta1 = 91.941, 差分 =21.7495\n",
      "204回目: theta0 = 422.194, theta1 = 91.971, 差分 =20.8882\n",
      "205回目: theta0 = 422.333, theta1 = 92.001, 差分 =20.0610\n",
      "206回目: theta0 = 422.469, theta1 = 92.031, 差分 =19.2666\n",
      "207回目: theta0 = 422.603, theta1 = 92.060, 差分 =18.5036\n",
      "208回目: theta0 = 422.734, theta1 = 92.088, 差分 =17.7709\n",
      "209回目: theta0 = 422.862, theta1 = 92.116, 差分 =17.0672\n",
      "210回目: theta0 = 422.988, theta1 = 92.143, 差分 =16.3913\n",
      "211回目: theta0 = 423.111, theta1 = 92.170, 差分 =15.7422\n",
      "212回目: theta0 = 423.232, theta1 = 92.196, 差分 =15.1188\n",
      "213回目: theta0 = 423.350, theta1 = 92.222, 差分 =14.5201\n",
      "214回目: theta0 = 423.466, theta1 = 92.247, 差分 =13.9451\n",
      "215回目: theta0 = 423.580, theta1 = 92.272, 差分 =13.3929\n",
      "216回目: theta0 = 423.691, theta1 = 92.296, 差分 =12.8625\n",
      "217回目: theta0 = 423.801, theta1 = 92.319, 差分 =12.3532\n",
      "218回目: theta0 = 423.908, theta1 = 92.343, 差分 =11.8640\n",
      "219回目: theta0 = 424.012, theta1 = 92.365, 差分 =11.3942\n",
      "220回目: theta0 = 424.115, theta1 = 92.388, 差分 =10.9430\n",
      "221回目: theta0 = 424.216, theta1 = 92.409, 差分 =10.5096\n",
      "222回目: theta0 = 424.315, theta1 = 92.431, 差分 =10.0934\n",
      "223回目: theta0 = 424.411, theta1 = 92.452, 差分 =9.6937\n",
      "224回目: theta0 = 424.506, theta1 = 92.472, 差分 =9.3099\n",
      "225回目: theta0 = 424.599, theta1 = 92.493, 差分 =8.9412\n",
      "226回目: theta0 = 424.690, theta1 = 92.512, 差分 =8.5871\n",
      "227回目: theta0 = 424.779, theta1 = 92.532, 差分 =8.2471\n",
      "228回目: theta0 = 424.867, theta1 = 92.551, 差分 =7.9205\n",
      "229回目: theta0 = 424.952, theta1 = 92.569, 差分 =7.6068\n",
      "230回目: theta0 = 425.036, theta1 = 92.587, 差分 =7.3056\n",
      "231回目: theta0 = 425.118, theta1 = 92.605, 差分 =7.0163\n",
      "232回目: theta0 = 425.199, theta1 = 92.623, 差分 =6.7385\n",
      "233回目: theta0 = 425.278, theta1 = 92.640, 差分 =6.4716\n",
      "234回目: theta0 = 425.356, theta1 = 92.656, 差分 =6.2153\n",
      "235回目: theta0 = 425.431, theta1 = 92.673, 差分 =5.9692\n",
      "236回目: theta0 = 425.506, theta1 = 92.689, 差分 =5.7328\n",
      "237回目: theta0 = 425.579, theta1 = 92.705, 差分 =5.5058\n",
      "238回目: theta0 = 425.650, theta1 = 92.720, 差分 =5.2878\n",
      "239回目: theta0 = 425.720, theta1 = 92.735, 差分 =5.0784\n",
      "240回目: theta0 = 425.789, theta1 = 92.750, 差分 =4.8773\n",
      "241回目: theta0 = 425.856, theta1 = 92.765, 差分 =4.6841\n",
      "242回目: theta0 = 425.922, theta1 = 92.779, 差分 =4.4987\n",
      "243回目: theta0 = 425.986, theta1 = 92.793, 差分 =4.3205\n",
      "244回目: theta0 = 426.050, theta1 = 92.807, 差分 =4.1494\n",
      "245回目: theta0 = 426.112, theta1 = 92.820, 差分 =3.9851\n",
      "246回目: theta0 = 426.172, theta1 = 92.834, 差分 =3.8273\n",
      "247回目: theta0 = 426.232, theta1 = 92.846, 差分 =3.6757\n",
      "248回目: theta0 = 426.290, theta1 = 92.859, 差分 =3.5302\n",
      "249回目: theta0 = 426.348, theta1 = 92.871, 差分 =3.3904\n",
      "250回目: theta0 = 426.404, theta1 = 92.884, 差分 =3.2561\n",
      "251回目: theta0 = 426.459, theta1 = 92.895, 差分 =3.1272\n",
      "252回目: theta0 = 426.512, theta1 = 92.907, 差分 =3.0033\n",
      "253回目: theta0 = 426.565, theta1 = 92.919, 差分 =2.8844\n",
      "254回目: theta0 = 426.617, theta1 = 92.930, 差分 =2.7702\n",
      "255回目: theta0 = 426.667, theta1 = 92.941, 差分 =2.6605\n",
      "256回目: theta0 = 426.717, theta1 = 92.952, 差分 =2.5551\n",
      "257回目: theta0 = 426.766, theta1 = 92.962, 差分 =2.4539\n",
      "258回目: theta0 = 426.813, theta1 = 92.972, 差分 =2.3568\n",
      "259回目: theta0 = 426.860, theta1 = 92.983, 差分 =2.2634\n",
      "260回目: theta0 = 426.906, theta1 = 92.992, 差分 =2.1738\n",
      "261回目: theta0 = 426.951, theta1 = 93.002, 差分 =2.0877\n",
      "262回目: theta0 = 426.995, theta1 = 93.012, 差分 =2.0051\n",
      "263回目: theta0 = 427.038, theta1 = 93.021, 差分 =1.9257\n",
      "264回目: theta0 = 427.080, theta1 = 93.030, 差分 =1.8494\n",
      "265回目: theta0 = 427.122, theta1 = 93.039, 差分 =1.7762\n",
      "266回目: theta0 = 427.162, theta1 = 93.048, 差分 =1.7058\n",
      "267回目: theta0 = 427.202, theta1 = 93.057, 差分 =1.6383\n",
      "268回目: theta0 = 427.241, theta1 = 93.065, 差分 =1.5734\n",
      "269回目: theta0 = 427.279, theta1 = 93.073, 差分 =1.5111\n",
      "270回目: theta0 = 427.316, theta1 = 93.081, 差分 =1.4513\n",
      "271回目: theta0 = 427.353, theta1 = 93.089, 差分 =1.3938\n",
      "272回目: theta0 = 427.389, theta1 = 93.097, 差分 =1.3386\n",
      "273回目: theta0 = 427.424, theta1 = 93.105, 差分 =1.2856\n",
      "274回目: theta0 = 427.459, theta1 = 93.112, 差分 =1.2347\n",
      "275回目: theta0 = 427.493, theta1 = 93.120, 差分 =1.1858\n",
      "276回目: theta0 = 427.526, theta1 = 93.127, 差分 =1.1388\n",
      "277回目: theta0 = 427.558, theta1 = 93.134, 差分 =1.0937\n",
      "278回目: theta0 = 427.590, theta1 = 93.141, 差分 =1.0504\n",
      "279回目: theta0 = 427.621, theta1 = 93.147, 差分 =1.0088\n",
      "280回目: theta0 = 427.652, theta1 = 93.154, 差分 =0.9689\n",
      "281回目: theta0 = 427.682, theta1 = 93.161, 差分 =0.9305\n",
      "282回目: theta0 = 427.711, theta1 = 93.167, 差分 =0.8937\n",
      "283回目: theta0 = 427.740, theta1 = 93.173, 差分 =0.8583\n",
      "284回目: theta0 = 427.768, theta1 = 93.179, 差分 =0.8243\n",
      "285回目: theta0 = 427.796, theta1 = 93.185, 差分 =0.7916\n",
      "286回目: theta0 = 427.823, theta1 = 93.191, 差分 =0.7603\n",
      "287回目: theta0 = 427.849, theta1 = 93.197, 差分 =0.7302\n",
      "288回目: theta0 = 427.875, theta1 = 93.203, 差分 =0.7013\n",
      "289回目: theta0 = 427.901, theta1 = 93.208, 差分 =0.6735\n",
      "290回目: theta0 = 427.926, theta1 = 93.213, 差分 =0.6468\n",
      "291回目: theta0 = 427.950, theta1 = 93.219, 差分 =0.6212\n",
      "292回目: theta0 = 427.974, theta1 = 93.224, 差分 =0.5966\n",
      "293回目: theta0 = 427.998, theta1 = 93.229, 差分 =0.5730\n",
      "294回目: theta0 = 428.021, theta1 = 93.234, 差分 =0.5503\n",
      "295回目: theta0 = 428.044, theta1 = 93.239, 差分 =0.5285\n",
      "296回目: theta0 = 428.066, theta1 = 93.244, 差分 =0.5076\n",
      "297回目: theta0 = 428.087, theta1 = 93.248, 差分 =0.4875\n",
      "298回目: theta0 = 428.109, theta1 = 93.253, 差分 =0.4682\n",
      "299回目: theta0 = 428.129, theta1 = 93.258, 差分 =0.4496\n",
      "300回目: theta0 = 428.150, theta1 = 93.262, 差分 =0.4318\n",
      "301回目: theta0 = 428.170, theta1 = 93.266, 差分 =0.4147\n",
      "302回目: theta0 = 428.189, theta1 = 93.271, 差分 =0.3983\n",
      "303回目: theta0 = 428.209, theta1 = 93.275, 差分 =0.3825\n",
      "304回目: theta0 = 428.227, theta1 = 93.279, 差分 =0.3674\n",
      "305回目: theta0 = 428.246, theta1 = 93.283, 差分 =0.3528\n",
      "306回目: theta0 = 428.264, theta1 = 93.287, 差分 =0.3389\n",
      "307回目: theta0 = 428.282, theta1 = 93.291, 差分 =0.3254\n",
      "308回目: theta0 = 428.299, theta1 = 93.294, 差分 =0.3126\n",
      "309回目: theta0 = 428.316, theta1 = 93.298, 差分 =0.3002\n",
      "310回目: theta0 = 428.333, theta1 = 93.302, 差分 =0.2883\n",
      "311回目: theta0 = 428.349, theta1 = 93.305, 差分 =0.2769\n",
      "312回目: theta0 = 428.365, theta1 = 93.309, 差分 =0.2659\n",
      "313回目: theta0 = 428.381, theta1 = 93.312, 差分 =0.2554\n",
      "314回目: theta0 = 428.396, theta1 = 93.315, 差分 =0.2453\n",
      "315回目: theta0 = 428.411, theta1 = 93.319, 差分 =0.2356\n",
      "316回目: theta0 = 428.426, theta1 = 93.322, 差分 =0.2262\n",
      "317回目: theta0 = 428.441, theta1 = 93.325, 差分 =0.2173\n",
      "318回目: theta0 = 428.455, theta1 = 93.328, 差分 =0.2087\n",
      "319回目: theta0 = 428.469, theta1 = 93.331, 差分 =0.2004\n",
      "320回目: theta0 = 428.482, theta1 = 93.334, 差分 =0.1925\n",
      "321回目: theta0 = 428.496, theta1 = 93.337, 差分 =0.1848\n",
      "322回目: theta0 = 428.509, theta1 = 93.340, 差分 =0.1775\n",
      "323回目: theta0 = 428.522, theta1 = 93.343, 差分 =0.1705\n",
      "324回目: theta0 = 428.534, theta1 = 93.345, 差分 =0.1637\n",
      "325回目: theta0 = 428.546, theta1 = 93.348, 差分 =0.1573\n",
      "326回目: theta0 = 428.559, theta1 = 93.351, 差分 =0.1510\n",
      "327回目: theta0 = 428.570, theta1 = 93.353, 差分 =0.1450\n",
      "328回目: theta0 = 428.582, theta1 = 93.356, 差分 =0.1393\n",
      "329回目: theta0 = 428.593, theta1 = 93.358, 差分 =0.1338\n",
      "330回目: theta0 = 428.604, theta1 = 93.361, 差分 =0.1285\n",
      "331回目: theta0 = 428.615, theta1 = 93.363, 差分 =0.1234\n",
      "332回目: theta0 = 428.626, theta1 = 93.365, 差分 =0.1185\n",
      "333回目: theta0 = 428.637, theta1 = 93.367, 差分 =0.1138\n",
      "334回目: theta0 = 428.647, theta1 = 93.370, 差分 =0.1093\n",
      "335回目: theta0 = 428.657, theta1 = 93.372, 差分 =0.1050\n",
      "336回目: theta0 = 428.667, theta1 = 93.374, 差分 =0.1008\n",
      "337回目: theta0 = 428.676, theta1 = 93.376, 差分 =0.0968\n",
      "338回目: theta0 = 428.686, theta1 = 93.378, 差分 =0.0930\n",
      "339回目: theta0 = 428.695, theta1 = 93.380, 差分 =0.0893\n",
      "340回目: theta0 = 428.704, theta1 = 93.382, 差分 =0.0858\n",
      "341回目: theta0 = 428.713, theta1 = 93.384, 差分 =0.0824\n",
      "342回目: theta0 = 428.722, theta1 = 93.386, 差分 =0.0791\n",
      "343回目: theta0 = 428.730, theta1 = 93.388, 差分 =0.0760\n",
      "344回目: theta0 = 428.739, theta1 = 93.390, 差分 =0.0730\n",
      "345回目: theta0 = 428.747, theta1 = 93.391, 差分 =0.0701\n",
      "346回目: theta0 = 428.755, theta1 = 93.393, 差分 =0.0673\n",
      "347回目: theta0 = 428.763, theta1 = 93.395, 差分 =0.0646\n",
      "348回目: theta0 = 428.771, theta1 = 93.397, 差分 =0.0621\n",
      "349回目: theta0 = 428.778, theta1 = 93.398, 差分 =0.0596\n",
      "350回目: theta0 = 428.786, theta1 = 93.400, 差分 =0.0573\n",
      "351回目: theta0 = 428.793, theta1 = 93.401, 差分 =0.0550\n",
      "352回目: theta0 = 428.800, theta1 = 93.403, 差分 =0.0528\n",
      "353回目: theta0 = 428.807, theta1 = 93.404, 差分 =0.0507\n",
      "354回目: theta0 = 428.814, theta1 = 93.406, 差分 =0.0487\n",
      "355回目: theta0 = 428.821, theta1 = 93.407, 差分 =0.0468\n",
      "356回目: theta0 = 428.827, theta1 = 93.409, 差分 =0.0449\n",
      "357回目: theta0 = 428.834, theta1 = 93.410, 差分 =0.0432\n",
      "358回目: theta0 = 428.840, theta1 = 93.412, 差分 =0.0415\n",
      "359回目: theta0 = 428.846, theta1 = 93.413, 差分 =0.0398\n",
      "360回目: theta0 = 428.852, theta1 = 93.414, 差分 =0.0382\n",
      "361回目: theta0 = 428.858, theta1 = 93.416, 差分 =0.0367\n",
      "362回目: theta0 = 428.864, theta1 = 93.417, 差分 =0.0353\n",
      "363回目: theta0 = 428.870, theta1 = 93.418, 差分 =0.0339\n",
      "364回目: theta0 = 428.876, theta1 = 93.419, 差分 =0.0325\n",
      "365回目: theta0 = 428.881, theta1 = 93.420, 差分 =0.0312\n",
      "366回目: theta0 = 428.886, theta1 = 93.422, 差分 =0.0300\n",
      "367回目: theta0 = 428.892, theta1 = 93.423, 差分 =0.0288\n",
      "368回目: theta0 = 428.897, theta1 = 93.424, 差分 =0.0277\n",
      "369回目: theta0 = 428.902, theta1 = 93.425, 差分 =0.0266\n",
      "370回目: theta0 = 428.907, theta1 = 93.426, 差分 =0.0255\n",
      "371回目: theta0 = 428.912, theta1 = 93.427, 差分 =0.0245\n",
      "372回目: theta0 = 428.916, theta1 = 93.428, 差分 =0.0235\n",
      "373回目: theta0 = 428.921, theta1 = 93.429, 差分 =0.0226\n",
      "374回目: theta0 = 428.926, theta1 = 93.430, 差分 =0.0217\n",
      "375回目: theta0 = 428.930, theta1 = 93.431, 差分 =0.0209\n",
      "376回目: theta0 = 428.935, theta1 = 93.432, 差分 =0.0200\n",
      "377回目: theta0 = 428.939, theta1 = 93.433, 差分 =0.0192\n",
      "378回目: theta0 = 428.943, theta1 = 93.434, 差分 =0.0185\n",
      "379回目: theta0 = 428.947, theta1 = 93.435, 差分 =0.0177\n",
      "380回目: theta0 = 428.951, theta1 = 93.436, 差分 =0.0170\n",
      "381回目: theta0 = 428.955, theta1 = 93.437, 差分 =0.0164\n",
      "382回目: theta0 = 428.959, theta1 = 93.437, 差分 =0.0157\n",
      "383回目: theta0 = 428.963, theta1 = 93.438, 差分 =0.0151\n",
      "384回目: theta0 = 428.967, theta1 = 93.439, 差分 =0.0145\n",
      "385回目: theta0 = 428.970, theta1 = 93.440, 差分 =0.0139\n",
      "386回目: theta0 = 428.974, theta1 = 93.441, 差分 =0.0134\n",
      "387回目: theta0 = 428.978, theta1 = 93.441, 差分 =0.0128\n",
      "388回目: theta0 = 428.981, theta1 = 93.442, 差分 =0.0123\n",
      "389回目: theta0 = 428.984, theta1 = 93.443, 差分 =0.0118\n",
      "390回目: theta0 = 428.988, theta1 = 93.444, 差分 =0.0114\n",
      "391回目: theta0 = 428.991, theta1 = 93.444, 差分 =0.0109\n",
      "392回目: theta0 = 428.994, theta1 = 93.445, 差分 =0.0105\n",
      "393回目: theta0 = 428.997, theta1 = 93.446, 差分 =0.0101\n",
      "394回目: theta0 = 429.000, theta1 = 93.446, 差分 =0.0097\n"
     ]
    }
   ],
   "source": [
    "while diff > 1e-2:\n",
    "    tmp0 = theta0 - ETA *np.sum((f(train_z)- train_y))\n",
    "    tmp1 = theta1 - ETA *np.sum((f(train_z)- train_y)*train_z)\n",
    "    theta0 = tmp0                \n",
    "    theta1 = tmp1\n",
    "    current_error= E(train_z, train_y)\n",
    "    diff = error - current_error\n",
    "    error = current_error\n",
    "    count += 1\n",
    "    log = '{}回目: theta0 = {:.3f}, theta1 = {:.3f}, 差分 ={:.4f}'\n",
    "    print(log.format(count, theta0, theta1, diff))"
   ]
  },
  {
   "cell_type": "code",
   "execution_count": 29,
   "metadata": {},
   "outputs": [],
   "source": [
    "x = np.linspace(-3, 3, 100)"
   ]
  },
  {
   "cell_type": "code",
   "execution_count": null,
   "metadata": {},
   "outputs": [],
   "source": []
  },
  {
   "cell_type": "code",
   "execution_count": 364,
   "metadata": {},
   "outputs": [
    {
     "data": {
      "text/plain": [
       "[<matplotlib.lines.Line2D at 0x11860a748>]"
      ]
     },
     "execution_count": 364,
     "metadata": {},
     "output_type": "execute_result"
    },
    {
     "data": {
      "image/png": "[encoded data removed]",
      "text/plain": [
       "<Figure size 432x288 with 1 Axes>"
      ]
     },
     "metadata": {
      "needs_background": "light"
     },
     "output_type": "display_data"
    }
   ],
   "source": [
    "plt.plot(train_z, train_y, 'o')"
   ]
  },
  {
   "cell_type": "code",
   "execution_count": 365,
   "metadata": {},
   "outputs": [
    {
     "data": {
      "text/plain": [
       "[<matplotlib.lines.Line2D at 0x1186e5208>]"
      ]
     },
     "execution_count": 365,
     "metadata": {},
     "output_type": "execute_result"
    },
    {
     "data": {
      "image/png": "[encoded data removed]",
      "text/plain": [
       "<Figure size 432x288 with 1 Axes>"
      ]
     },
     "metadata": {
      "needs_background": "light"
     },
     "output_type": "display_data"
    }
   ],
   "source": [
    "plt.plot(x, f(x)) and plt.plot(train_z, train_y, 'o')"
   ]
  },
  {
   "cell_type": "code",
   "execution_count": 366,
   "metadata": {},
   "outputs": [],
   "source": [
    "plt.show()"
   ]
  },
  {
   "cell_type": "code",
   "execution_count": 367,
   "metadata": {},
   "outputs": [
    {
     "data": {
      "text/plain": [
       "370.96737561755197"
      ]
     },
     "execution_count": 367,
     "metadata": {},
     "output_type": "execute_result"
    }
   ],
   "source": [
    "f(standardize(100))"
   ]
  },
  {
   "cell_type": "code",
   "execution_count": 368,
   "metadata": {},
   "outputs": [
    {
     "data": {
      "text/plain": [
       "510.4700104207926"
      ]
     },
     "execution_count": 368,
     "metadata": {},
     "output_type": "execute_result"
    }
   ],
   "source": [
    "f(standardize(200))"
   ]
  },
  {
   "cell_type": "code",
   "execution_count": 369,
   "metadata": {},
   "outputs": [
    {
     "data": {
      "text/plain": [
       "649.9726452240334"
      ]
     },
     "execution_count": 369,
     "metadata": {},
     "output_type": "execute_result"
    }
   ],
   "source": [
    "f(standardize(300))"
   ]
  },
  {
   "cell_type": "code",
   "execution_count": 342,
   "metadata": {},
   "outputs": [],
   "source": [
    "theta = np.random.rand(3)"
   ]
  },
  {
   "cell_type": "code",
   "execution_count": 343,
   "metadata": {},
   "outputs": [],
   "source": [
    "def to_matrix(x):\n",
    "    return np.vstack([np.ones(x.shape[0]), x, x ** 2]).T"
   ]
  },
  {
   "cell_type": "code",
   "execution_count": 344,
   "metadata": {},
   "outputs": [],
   "source": [
    "X =  to_matrix(train_z)"
   ]
  },
  {
   "cell_type": "code",
   "execution_count": 345,
   "metadata": {},
   "outputs": [],
   "source": [
    "def f(x):\n",
    "    return np.dot(x, theta)"
   ]
  },
  {
   "cell_type": "code",
   "execution_count": null,
   "metadata": {},
   "outputs": [],
   "source": []
  },
  {
   "cell_type": "code",
   "execution_count": null,
   "metadata": {},
   "outputs": [],
   "source": []
  },
  {
   "cell_type": "code",
   "execution_count": null,
   "metadata": {},
   "outputs": [],
   "source": []
  },
  {
   "cell_type": "code",
   "execution_count": null,
   "metadata": {},
   "outputs": [],
   "source": []
  }
 ],
 "metadata": {
  "kernelspec": {
   "display_name": "Python 3",
   "language": "python",
   "name": "python3"
  },
  "language_info": {
   "codemirror_mode": {
    "name": "ipython",
    "version": 3
   },
   "file_extension": ".py",
   "mimetype": "text/x-python",
   "name": "python",
   "nbconvert_exporter": "python",
   "pygments_lexer": "ipython3",
   "version": "3.6.0"
  }
 },
 "nbformat": 4,
 "nbformat_minor": 2
}
